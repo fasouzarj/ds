{
  "cells": [
    {
      "cell_type": "markdown",
      "metadata": {
        "id": "_kwAaQ36gLQ1"
      },
      "source": [
        "# Sobre o notebook\n",
        "\n",
        "A \"hora da prática\" é uma atividade do curso de Python para Data Science da Alura que contém diversos desafios envolvendo os aprendizados de cada aula.\n",
        "\n",
        "O notebook \"hora da pratica\" é um notebook construído com espaço para as células dos desafios propostos no curso, com ele você tem espaço para construir e executar suas soluções"
      ]
    },
    {
      "cell_type": "markdown",
      "metadata": {
        "id": "Mc-KN0dA0Z83"
      },
      "source": [
        "## Aula 1 - Introdução ao Python"
      ]
    },
    {
      "cell_type": "markdown",
      "metadata": {
        "id": "l5eLWf0W0ikn"
      },
      "source": [
        "### Questão 1\n",
        "\n",
        "Imprima a frase `Escola de Dados da Alura!`"
      ]
    },
    {
      "cell_type": "code",
      "execution_count": null,
      "metadata": {
        "colab": {
          "base_uri": "https://localhost:8080/"
        },
        "id": "5pllxJ0h0-yA",
        "outputId": "64a93caa-f70b-49e6-9d61-b408f526a7fa"
      },
      "outputs": [
        {
          "name": "stdout",
          "output_type": "stream",
          "text": [
            "Escola de Dados da Alura!\n"
          ]
        }
      ],
      "source": [
        "print('Escola de Dados da Alura!')"
      ]
    },
    {
      "cell_type": "markdown",
      "metadata": {
        "id": "tQdX90Ue03c7"
      },
      "source": [
        "### Questão 2\n",
        "Imprima na tela seu nome e seu sobrenome seguindo a estrutura abaixo:\n",
        "```\n",
        "Nome: [seu nome]\n",
        "Sobrenome: [seu sobrenome]\n",
        "```\n"
      ]
    },
    {
      "cell_type": "code",
      "execution_count": null,
      "metadata": {
        "colab": {
          "base_uri": "https://localhost:8080/"
        },
        "id": "RVw5iKn20_Ps",
        "outputId": "3d33c5b8-3ec3-4db4-cc27-cb631b85d9c7"
      },
      "outputs": [
        {
          "name": "stdout",
          "output_type": "stream",
          "text": [
            "Nome: Flávio \n",
            "sobrenome: Alves\n"
          ]
        }
      ],
      "source": [
        "print('Nome: Flávio \\n'\n",
        "    'sobrenome: Alves')"
      ]
    },
    {
      "cell_type": "markdown",
      "metadata": {
        "id": "gfg-aiip03vC"
      },
      "source": [
        "### Questão 3\n",
        "Imprima o seu primeiro nome letra a letra. Por exemplo, nome é Mirla, então eu obtenho a seguinte saída:\n",
        "```\n",
        "M\n",
        "I\n",
        "R\n",
        "L\n",
        "A\n",
        "```\n"
      ]
    },
    {
      "cell_type": "code",
      "execution_count": null,
      "metadata": {
        "colab": {
          "base_uri": "https://localhost:8080/"
        },
        "id": "v5bkrgf60_qx",
        "outputId": "c4b69999-7a91-4b97-b233-bafadb0247e5"
      },
      "outputs": [
        {
          "name": "stdout",
          "output_type": "stream",
          "text": [
            "F\n",
            "l\n",
            "á\n",
            "v\n",
            "i\n",
            "o\n"
          ]
        }
      ],
      "source": [
        "nome = 'Flávio'\n",
        "for i in nome:\n",
        "  print(i)"
      ]
    },
    {
      "cell_type": "markdown",
      "metadata": {
        "id": "oadrJbl704MM"
      },
      "source": [
        "### Questão 4\n",
        "Imprima o dia do seu nascimento em formato `dia mês ano`. Os valores de dia e ano não podem estar entre aspas. O formato deve estar como no exemplo, supondo uma data de aniversário dia 28 de fevereiro de 2003:\n",
        "```\n",
        "28 fevereiro 2003\n",
        "```"
      ]
    },
    {
      "cell_type": "code",
      "execution_count": null,
      "metadata": {
        "colab": {
          "base_uri": "https://localhost:8080/"
        },
        "id": "cx0KSsrq1ALD",
        "outputId": "66b80466-593a-4429-d987-173fc6203d3f"
      },
      "outputs": [
        {
          "name": "stdout",
          "output_type": "stream",
          "text": [
            "24 setembro 1984\n"
          ]
        }
      ],
      "source": [
        "d = 24\n",
        "m = 'setembro'\n",
        "a = 1984\n",
        "print(f'{d} {m} {a}')"
      ]
    },
    {
      "cell_type": "markdown",
      "metadata": {
        "id": "3RgyMaan04TD"
      },
      "source": [
        "### Questão 5\n",
        "Imprima em um único print o atual ano que você está fazendo esse curso, o valor do ano deve ser um dado numérico. A saída do print deve ser a seguinte:\n",
        "```\n",
        "Ano atual: [ano]\n",
        "```\n"
      ]
    },
    {
      "cell_type": "code",
      "execution_count": null,
      "metadata": {
        "colab": {
          "base_uri": "https://localhost:8080/"
        },
        "id": "UN77EfQ2d36Y",
        "outputId": "2ec4c108-2d4b-482e-c400-514c4d0e5a2f"
      },
      "outputs": [
        {
          "name": "stdout",
          "output_type": "stream",
          "text": [
            "Ano atual: 2022\n"
          ]
        }
      ],
      "source": [
        "print('Ano atual:', 2022)"
      ]
    },
    {
      "cell_type": "markdown",
      "metadata": {
        "id": "D9e3FqhO1S3X"
      },
      "source": [
        "## Aula 2 - Manipulando dados no Python"
      ]
    },
    {
      "cell_type": "markdown",
      "metadata": {
        "id": "n6o7C1Ze2cRe"
      },
      "source": [
        "### Coleta e amostragem de dados"
      ]
    },
    {
      "cell_type": "markdown",
      "metadata": {
        "id": "sRneWag9PV5Q"
      },
      "source": [
        "#### Questão 1\n",
        "Crie um programa que solicite à pessoa usuária digitar seu nome, e imprima “Olá, [nome]!”."
      ]
    },
    {
      "cell_type": "code",
      "execution_count": null,
      "metadata": {
        "colab": {
          "base_uri": "https://localhost:8080/"
        },
        "id": "dbX1fKqy2HnE",
        "outputId": "c6de00ee-5ec0-463b-f311-55c5e5e97be9"
      },
      "outputs": [
        {
          "name": "stdout",
          "output_type": "stream",
          "text": [
            "Digite seu nome: Flavio\n",
            "Olá, Flavio\n"
          ]
        }
      ],
      "source": [
        "nome = input('Digite seu nome: ')\n",
        "print(f\"Olá, {nome}\")"
      ]
    },
    {
      "cell_type": "markdown",
      "metadata": {
        "id": "BJ1SznEp70d5"
      },
      "source": [
        "#### Questão 2\n",
        "Crie um programa que solicite à pessoa usuária digitar seu nome e idade, e imprima “Olá, [nome], você tem [idade] anos.”."
      ]
    },
    {
      "cell_type": "code",
      "execution_count": null,
      "metadata": {
        "colab": {
          "base_uri": "https://localhost:8080/"
        },
        "id": "jKz-0Sq8PFkp",
        "outputId": "3ceb44ba-98ca-4263-b266-00f353b2dee6"
      },
      "outputs": [
        {
          "name": "stdout",
          "output_type": "stream",
          "text": [
            "Digite seu nome: Flavio\n",
            "Digite sua idade: 38\n",
            "Olá Flavio, você tem 38 anos.\n"
          ]
        }
      ],
      "source": [
        "nome = str(input(\"Digite seu nome: \"))\n",
        "idade = int(input(\"Digite sua idade: \"))\n",
        "print(f\"Olá {nome}, você tem {idade} anos.\")"
      ]
    },
    {
      "cell_type": "markdown",
      "metadata": {
        "id": "2T0jNYZt70aa"
      },
      "source": [
        "#### Questão 3\n",
        "Crie um programa que solicite à pessoa usuária digitar seu nome, idade e altura em metros, e imprima “Olá, [nome], você tem [idade] anos e mede [altura] metros!”."
      ]
    },
    {
      "cell_type": "code",
      "execution_count": null,
      "metadata": {
        "colab": {
          "base_uri": "https://localhost:8080/"
        },
        "id": "pI4kHNzTPIXh",
        "outputId": "6fd0784a-dcf6-4736-f2d0-8be446ebe750"
      },
      "outputs": [
        {
          "name": "stdout",
          "output_type": "stream",
          "text": [
            "Digite seu nome: Flavio\n",
            "Digite sua idade: 38\n",
            "Digite sua altura: 1.59\n",
            "Olá Flavio, você tem 38 anos e mede 1.59 metros.\n"
          ]
        }
      ],
      "source": [
        "nome = str(input(\"Digite seu nome: \"))\n",
        "idade = int(input(\"Digite sua idade: \"))\n",
        "altura = float(input(\"Digite sua altura: \"))\n",
        "print(f\"Olá {nome}, você tem {idade} anos e mede {altura} metros.\")"
      ]
    },
    {
      "cell_type": "markdown",
      "metadata": {
        "id": "mEBFwKkC70KP"
      },
      "source": [
        "### Calculadora com operadores"
      ]
    },
    {
      "cell_type": "markdown",
      "metadata": {
        "id": "H-IV1oAPPSqK"
      },
      "source": [
        "#### Questão 1\n",
        "\n",
        "Crie um programa que solicite dois valores numéricos à pessoa usuária e imprima a soma dos dois valores."
      ]
    },
    {
      "cell_type": "code",
      "execution_count": null,
      "metadata": {
        "colab": {
          "base_uri": "https://localhost:8080/"
        },
        "id": "Zb0W84sy8rnp",
        "outputId": "900662b9-6d7c-4e28-9899-336707a7c414"
      },
      "outputs": [
        {
          "name": "stdout",
          "output_type": "stream",
          "text": [
            "Digite n1: 1\n",
            "Digite n2: 2\n",
            "1.0 + 2.0 = 3.0\n"
          ]
        }
      ],
      "source": [
        "n1 = float(input(\"Digite n1: \"))\n",
        "n2 = float(input(\"Digite n2: \"))\n",
        "soma = n1 + n2\n",
        "print(f\"{n1} + {n2} = {soma}\")"
      ]
    },
    {
      "cell_type": "markdown",
      "metadata": {
        "id": "LUoi2MOu70Em"
      },
      "source": [
        "#### Questão 2\n",
        "Crie um programa que solicite três valores numéricos à pessoa usuária e imprima a soma dos três valores."
      ]
    },
    {
      "cell_type": "code",
      "execution_count": null,
      "metadata": {
        "colab": {
          "base_uri": "https://localhost:8080/"
        },
        "id": "4FYjWyBS8rDm",
        "outputId": "9d982254-acb2-48f7-87f6-302fb17a6e74"
      },
      "outputs": [
        {
          "name": "stdout",
          "output_type": "stream",
          "text": [
            "Digite n1: 1\n",
            "Digite n2: 2\n",
            "Digite n3: 3\n",
            "1.0 + 2.0 + 3.0 = 6.0\n"
          ]
        }
      ],
      "source": [
        "n1 = float(input(\"Digite n1: \"))\n",
        "n2 = float(input(\"Digite n2: \"))\n",
        "n3 = float(input(\"Digite n3: \"))\n",
        "soma = n1 + n2 + n3\n",
        "print(f\"{n1} + {n2} + {n3} = {soma}\")"
      ]
    },
    {
      "cell_type": "markdown",
      "metadata": {
        "id": "lezGctF07z8i"
      },
      "source": [
        "#### Questão 3\n",
        "Crie um programa que solicite dois valores numéricos à pessoa usuária e imprima a subtração do primeiro pelo o segundo valor."
      ]
    },
    {
      "cell_type": "code",
      "execution_count": null,
      "metadata": {
        "colab": {
          "base_uri": "https://localhost:8080/"
        },
        "id": "k0GE1z4w8p3J",
        "outputId": "78c4370f-485b-4089-c1b6-b455696afac0"
      },
      "outputs": [
        {
          "name": "stdout",
          "output_type": "stream",
          "text": [
            "Digite n1: 1\n",
            "Digite n2: 2\n",
            "1.0 - 2.0 = -1.0\n"
          ]
        }
      ],
      "source": [
        "n1 = float(input(\"Digite n1: \"))\n",
        "n2 = float(input(\"Digite n2: \"))\n",
        "subtracao = n1 - n2\n",
        "print(f\"{n1} - {n2} = {subtracao}\")"
      ]
    },
    {
      "cell_type": "markdown",
      "metadata": {
        "id": "wwMP-dPU7zxW"
      },
      "source": [
        "#### Questão 4\n",
        "\n",
        "Crie um programa que solicite dois valores numéricos à pessoa usuária e imprima a multiplicação dos dois valores.\n"
      ]
    },
    {
      "cell_type": "code",
      "execution_count": null,
      "metadata": {
        "colab": {
          "base_uri": "https://localhost:8080/"
        },
        "id": "GzFCVHfp8peZ",
        "outputId": "e8fa470e-64d3-4d02-b3d8-b312b04b2689"
      },
      "outputs": [
        {
          "name": "stdout",
          "output_type": "stream",
          "text": [
            "Digite n1: 1\n",
            "Digite n2: 2\n",
            "1.0 * 2.0 = 2.0\n"
          ]
        }
      ],
      "source": [
        "n1 = float(input(\"Digite n1: \"))\n",
        "n2 = float(input(\"Digite n2: \"))\n",
        "multiplicacao = n1 * n2\n",
        "print(f\"{n1} * {n2} = {multiplicacao}\")"
      ]
    },
    {
      "cell_type": "markdown",
      "metadata": {
        "id": "9kxyHxUo7zRD"
      },
      "source": [
        "#### Questão 5\n",
        "\n",
        "Crie um programa que solicite dois valores numéricos, um numerador e um denominador, e realize a divisão entre os dois valores. Deixe claro que o valor do denominador não pode ser `0`.\n"
      ]
    },
    {
      "cell_type": "code",
      "execution_count": null,
      "metadata": {
        "colab": {
          "base_uri": "https://localhost:8080/"
        },
        "id": "ytJ8l5KH8ozc",
        "outputId": "d14d16e7-9d52-409b-c25e-decfc41867ca"
      },
      "outputs": [
        {
          "name": "stdout",
          "output_type": "stream",
          "text": [
            "Digite n1: 1\n",
            "Digite n2, diferente de zero! 2\n",
            "1.0 / 2.0 = 0.5\n"
          ]
        }
      ],
      "source": [
        "n1 = float(input(\"Digite n1: \"))\n",
        "n2 = float(input(\"Digite n2, diferente de zero! \"))\n",
        "divisao = n1 / n2\n",
        "print(f\"{n1} / {n2} = {divisao}\")"
      ]
    },
    {
      "cell_type": "markdown",
      "metadata": {
        "id": "zkUSBTQq8Hxt"
      },
      "source": [
        "#### Questão 6\n",
        "\n",
        "Crie um programa que solicite dois valores numéricos, um operador e uma potência, e realize a exponenciação entre esses dois valores.\n"
      ]
    },
    {
      "cell_type": "code",
      "execution_count": null,
      "metadata": {
        "colab": {
          "base_uri": "https://localhost:8080/"
        },
        "id": "RPj36jq08oZp",
        "outputId": "6161f297-ddea-4587-bcbc-8c75d21c1b2f"
      },
      "outputs": [
        {
          "name": "stdout",
          "output_type": "stream",
          "text": [
            "Digite n1: 1\n",
            "Digite n2: 2\n",
            "1.0 ** 2.0 = 1.0\n"
          ]
        }
      ],
      "source": [
        "n1 = float(input(\"Digite n1: \"))\n",
        "n2 = float(input(\"Digite n2: \"))\n",
        "exp = n1 ** n2\n",
        "print(f\"{n1} ** {n2} = {exp}\")"
      ]
    },
    {
      "cell_type": "markdown",
      "metadata": {
        "id": "yiunIusZ8Huj"
      },
      "source": [
        "#### Questão 7\n",
        "Crie um programa que solicite dois valores numéricos, um numerador e um denominador e realize a divisão inteira entre os dois valores. Deixe claro que o valor do denominador não pode ser `0`."
      ]
    },
    {
      "cell_type": "code",
      "execution_count": null,
      "metadata": {
        "colab": {
          "base_uri": "https://localhost:8080/"
        },
        "id": "UHK8xITf8oCg",
        "outputId": "306a2271-3504-4ff4-e5d3-8b26577b5ec1"
      },
      "outputs": [
        {
          "name": "stdout",
          "output_type": "stream",
          "text": [
            "Digite n1: 1\n",
            "Digite n2, diferente de zero! 2\n",
            "1.0 // 2.0 = 0.0\n"
          ]
        }
      ],
      "source": [
        "n1 = float(input(\"Digite n1: \"))\n",
        "n2 = float(input(\"Digite n2, diferente de zero! \"))\n",
        "div = n1 // n2\n",
        "print(f\"{n1} // {n2} = {div}\")"
      ]
    },
    {
      "cell_type": "markdown",
      "metadata": {
        "id": "z_D_JiLX8Hra"
      },
      "source": [
        "#### Questão 8\n",
        "\n",
        "Crie um programa que solicite dois valores numéricos, um numerador e um denominador, e retorne o resto da divisão entre os dois valores. Deixe claro que o valor do denominador não pode ser `0`."
      ]
    },
    {
      "cell_type": "code",
      "execution_count": null,
      "metadata": {
        "colab": {
          "base_uri": "https://localhost:8080/"
        },
        "id": "EWGJeukO8nqx",
        "outputId": "676597ee-a5fa-44f5-d566-eae28b09aa99"
      },
      "outputs": [
        {
          "name": "stdout",
          "output_type": "stream",
          "text": [
            "Digite n1: 1\n",
            "Digite n2, diferente de zero! 2\n",
            "1.0 % 2.0 = 1.0\n"
          ]
        }
      ],
      "source": [
        "n1 = float(input(\"Digite n1: \"))\n",
        "n2 = float(input(\"Digite n2, diferente de zero! \"))\n",
        "resto = n1 % n2\n",
        "print(f\"{n1} % {n2} = {resto}\")"
      ]
    },
    {
      "cell_type": "markdown",
      "metadata": {
        "id": "RDRajNkU8N8N"
      },
      "source": [
        "#### Questão 9\n",
        "\n",
        "Crie um código que solicita 3 notas de um estudante e imprima a média das notas."
      ]
    },
    {
      "cell_type": "code",
      "execution_count": null,
      "metadata": {
        "colab": {
          "base_uri": "https://localhost:8080/"
        },
        "id": "H6F4Ojzt8nSR",
        "outputId": "8c3e4451-a421-40b2-d75e-d88c280719c9"
      },
      "outputs": [
        {
          "name": "stdout",
          "output_type": "stream",
          "text": [
            "Digite n1: 1\n",
            "Digite n2: 2\n",
            "Digite n3: 3\n",
            "A média do aluno é 2.00\n"
          ]
        }
      ],
      "source": [
        "n1 = float(input(\"Digite n1: \"))\n",
        "n2 = float(input(\"Digite n2: \"))\n",
        "n3 = float(input(\"Digite n3: \"))\n",
        "media = (n1 +n2 + n3) / 3\n",
        "print(f\"A média do aluno é {media:.2f}\")"
      ]
    },
    {
      "cell_type": "markdown",
      "metadata": {
        "id": "d7fjkne58N21"
      },
      "source": [
        "#### Questão 10\n",
        "\n",
        "Crie um código que calcule e imprima a média ponderada dos números 5, 12, 20 e 15 com pesos respectivamente iguais a 1, 2, 3 e 4."
      ]
    },
    {
      "cell_type": "code",
      "execution_count": null,
      "metadata": {
        "colab": {
          "base_uri": "https://localhost:8080/"
        },
        "id": "fwjoHlV48mkv",
        "outputId": "3bf30170-649c-42ff-fec0-4505b47c9c24"
      },
      "outputs": [
        {
          "name": "stdout",
          "output_type": "stream",
          "text": [
            "Média ponderada: 14.9.\n"
          ]
        }
      ],
      "source": [
        "n1 = 5 * 1\n",
        "n2 = 12 * 2\n",
        "n3 = 20 * 3\n",
        "n4 = 15 * 4\n",
        "soma = n1 + n2 + n3 + n4\n",
        "media = soma / (1 + 2 + 3 + 4)\n",
        "print(f\"Média ponderada: {media}.\")"
      ]
    },
    {
      "cell_type": "markdown",
      "metadata": {
        "id": "GNmbX1OU8N0V"
      },
      "source": [
        "### Editando textos"
      ]
    },
    {
      "cell_type": "markdown",
      "metadata": {
        "id": "6wZ85mCsRCV0"
      },
      "source": [
        "#### Questão 1\n",
        "\n",
        "Crie uma variável chamada “`frase`” e atribua a ela uma string de sua escolha. Em seguida, imprima a frase na tela."
      ]
    },
    {
      "cell_type": "code",
      "execution_count": null,
      "metadata": {
        "colab": {
          "base_uri": "https://localhost:8080/",
          "height": 35
        },
        "id": "eRqr_gh-8mFy",
        "outputId": "6c8cf5bf-438d-4f72-fba0-c109e422d1cc"
      },
      "outputs": [
        {
          "data": {
            "application/vnd.google.colaboratory.intrinsic+json": {
              "type": "string"
            },
            "text/plain": [
              "'Python eh legal! 42 eh a resposta para tudo!!!'"
            ]
          },
          "execution_count": 19,
          "metadata": {},
          "output_type": "execute_result"
        }
      ],
      "source": [
        "frase = \"Python eh legal! 42 eh a resposta para tudo!!!\"\n",
        "frase"
      ]
    },
    {
      "cell_type": "markdown",
      "metadata": {
        "id": "Aac17z-18Nwv"
      },
      "source": [
        "#### Questão 2\n",
        "Crie um código que solicite uma frase e depois imprima a frase na tela."
      ]
    },
    {
      "cell_type": "code",
      "execution_count": null,
      "metadata": {
        "colab": {
          "base_uri": "https://localhost:8080/",
          "height": 52
        },
        "id": "8zfE2hh98lb0",
        "outputId": "c7362064-7147-4b8e-cabb-e66aa019bf46"
      },
      "outputs": [
        {
          "name": "stdout",
          "output_type": "stream",
          "text": [
            "Digite uma frase: Python eh legal! 42 eh a resposta para tudo!!!\n"
          ]
        },
        {
          "data": {
            "application/vnd.google.colaboratory.intrinsic+json": {
              "type": "string"
            },
            "text/plain": [
              "'Python eh legal! 42 eh a resposta para tudo!!!'"
            ]
          },
          "execution_count": 20,
          "metadata": {},
          "output_type": "execute_result"
        }
      ],
      "source": [
        "frase = input(\"Digite uma frase: \")\n",
        "frase"
      ]
    },
    {
      "cell_type": "markdown",
      "metadata": {
        "id": "DXVzqpN58Ntr"
      },
      "source": [
        "#### Questão 3\n",
        "\n",
        "Crie um código que solicite uma frase à pessoa usuária e imprima a mesma frase digitada mas com todas as letras maiúsculas."
      ]
    },
    {
      "cell_type": "code",
      "execution_count": null,
      "metadata": {
        "colab": {
          "base_uri": "https://localhost:8080/",
          "height": 52
        },
        "id": "d0VzoYP68k-I",
        "outputId": "f9f1f674-5f17-4d71-c981-e567801a7499"
      },
      "outputs": [
        {
          "name": "stdout",
          "output_type": "stream",
          "text": [
            "Digite uma frase: Python eh legal! 42 eh a resposta para tudo!!!\n"
          ]
        },
        {
          "data": {
            "application/vnd.google.colaboratory.intrinsic+json": {
              "type": "string"
            },
            "text/plain": [
              "'PYTHON EH LEGAL! 42 EH A RESPOSTA PARA TUDO!!!'"
            ]
          },
          "execution_count": 21,
          "metadata": {},
          "output_type": "execute_result"
        }
      ],
      "source": [
        "frase = input(\"Digite uma frase: \")\n",
        "frase.upper()"
      ]
    },
    {
      "cell_type": "markdown",
      "metadata": {
        "id": "I12VeNPK8Nqb"
      },
      "source": [
        "#### Questão 4\n",
        "\n",
        "Crie um código que solicite uma frase à pessoa usuária e imprima a mesma frase digitada mas com todas as letras minúsculas."
      ]
    },
    {
      "cell_type": "code",
      "execution_count": null,
      "metadata": {
        "colab": {
          "base_uri": "https://localhost:8080/",
          "height": 52
        },
        "id": "KD8rNy2K8kox",
        "outputId": "7789ec0f-e59a-460b-f94c-6fc515fd42cc"
      },
      "outputs": [
        {
          "name": "stdout",
          "output_type": "stream",
          "text": [
            "Digite uma frase: Python eh legal! 42 eh a resposta para tudo!!!\n"
          ]
        },
        {
          "data": {
            "application/vnd.google.colaboratory.intrinsic+json": {
              "type": "string"
            },
            "text/plain": [
              "'python eh legal! 42 eh a resposta para tudo!!!'"
            ]
          },
          "execution_count": 22,
          "metadata": {},
          "output_type": "execute_result"
        }
      ],
      "source": [
        "frase = input(\"Digite uma frase: \")\n",
        "frase.lower()"
      ]
    },
    {
      "cell_type": "markdown",
      "metadata": {
        "id": "cRqngSE48Nog"
      },
      "source": [
        "#### Questão 5\n",
        "\n",
        "Crie uma variável chamada “`frase`” e atribua a ela uma string de sua escolha. Em seguida, imprima a frase sem espaços em branco no início e no fim."
      ]
    },
    {
      "cell_type": "code",
      "execution_count": null,
      "metadata": {
        "colab": {
          "base_uri": "https://localhost:8080/",
          "height": 35
        },
        "id": "aSCpdF-o8kBs",
        "outputId": "c5ebdf25-f4e9-40e0-bccf-3ce6697f930b"
      },
      "outputs": [
        {
          "data": {
            "application/vnd.google.colaboratory.intrinsic+json": {
              "type": "string"
            },
            "text/plain": [
              "'Python eh legal! 42 eh a resposta para tudo!!!'"
            ]
          },
          "execution_count": 23,
          "metadata": {},
          "output_type": "execute_result"
        }
      ],
      "source": [
        "frase = \"    Python eh legal! 42 eh a resposta para tudo!!!   \"\n",
        "frase.strip()"
      ]
    },
    {
      "cell_type": "markdown",
      "metadata": {
        "id": "murIazpQ8Nkv"
      },
      "source": [
        "#### Questão 6\n",
        "\n",
        "Crie um código que solicite uma frase à pessoa usuária e imprima a mesma frase sem espaços em branco no início e no fim."
      ]
    },
    {
      "cell_type": "code",
      "execution_count": null,
      "metadata": {
        "colab": {
          "base_uri": "https://localhost:8080/",
          "height": 52
        },
        "id": "tHunjwuG8jNq",
        "outputId": "a12663d9-2c7a-42d4-8d93-0db42e391d40"
      },
      "outputs": [
        {
          "name": "stdout",
          "output_type": "stream",
          "text": [
            "Digite uma frase: Python eh legal! 42 eh a resposta para tudo!!!\n"
          ]
        },
        {
          "data": {
            "application/vnd.google.colaboratory.intrinsic+json": {
              "type": "string"
            },
            "text/plain": [
              "'Python eh legal! 42 eh a resposta para tudo!!!'"
            ]
          },
          "execution_count": 24,
          "metadata": {},
          "output_type": "execute_result"
        }
      ],
      "source": [
        "frase = input(\"Digite uma frase: \")\n",
        "frase.strip()"
      ]
    },
    {
      "cell_type": "markdown",
      "metadata": {
        "id": "eRxc2OeX8Nh2"
      },
      "source": [
        "#### Questão 7\n",
        "\n",
        "\n",
        "Crie um código que solicite uma frase à pessoa usuária e imprima a mesma frase sem espaços em branco no início e no fim e em letras minúsculas."
      ]
    },
    {
      "cell_type": "code",
      "execution_count": null,
      "metadata": {
        "colab": {
          "base_uri": "https://localhost:8080/",
          "height": 52
        },
        "id": "DYm0_UwS8ih6",
        "outputId": "448c4fa9-b24b-4531-8a8d-b5db94efb340"
      },
      "outputs": [
        {
          "name": "stdout",
          "output_type": "stream",
          "text": [
            "Digite uma frase: Python eh legal! 42 eh a resposta para tudo!!!\n"
          ]
        },
        {
          "data": {
            "application/vnd.google.colaboratory.intrinsic+json": {
              "type": "string"
            },
            "text/plain": [
              "'python eh legal! 42 eh a resposta para tudo!!!'"
            ]
          },
          "execution_count": 25,
          "metadata": {},
          "output_type": "execute_result"
        }
      ],
      "source": [
        "frase = input(\"Digite uma frase: \")\n",
        "frase.strip().lower()"
      ]
    },
    {
      "cell_type": "markdown",
      "metadata": {
        "id": "UKATLavs8NfI"
      },
      "source": [
        "#### Questão 8\n",
        "\n",
        "Crie um código que solicite uma frase à pessoa usuária e imprima a mesma frase com todas as vogais “`e`” trocadas pela letra “`f`”."
      ]
    },
    {
      "cell_type": "code",
      "execution_count": null,
      "metadata": {
        "colab": {
          "base_uri": "https://localhost:8080/",
          "height": 52
        },
        "id": "k64C5G5S8iLO",
        "outputId": "e2e2cadc-eb98-48bb-e868-8066c4d06e4c"
      },
      "outputs": [
        {
          "name": "stdout",
          "output_type": "stream",
          "text": [
            "Digite uma frase: Python eh legal! 42 eh a resposta para tudo!!!\n"
          ]
        },
        {
          "data": {
            "application/vnd.google.colaboratory.intrinsic+json": {
              "type": "string"
            },
            "text/plain": [
              "'Python fh lfgal! 42 fh a rfsposta para tudo!!!'"
            ]
          },
          "execution_count": 26,
          "metadata": {},
          "output_type": "execute_result"
        }
      ],
      "source": [
        "frase = input(\"Digite uma frase: \")\n",
        "frase.replace(\"e\", \"f\")"
      ]
    },
    {
      "cell_type": "markdown",
      "metadata": {
        "id": "n_1SPchw8NdG"
      },
      "source": [
        "#### Questão 9\n",
        "\n",
        "\n",
        "Crie um código que solicite uma frase à pessoa usuária e imprima a mesma frase com todas as vogais “`a`” trocadas pela caractere  “`@`”."
      ]
    },
    {
      "cell_type": "code",
      "execution_count": null,
      "metadata": {
        "colab": {
          "base_uri": "https://localhost:8080/",
          "height": 52
        },
        "id": "msaDNm_p8h0D",
        "outputId": "5068d47f-fa2a-4483-d425-3aba2d721a1c"
      },
      "outputs": [
        {
          "name": "stdout",
          "output_type": "stream",
          "text": [
            "Digite uma frase: Python eh legal! 42 eh a resposta para tudo!!!\n"
          ]
        },
        {
          "data": {
            "application/vnd.google.colaboratory.intrinsic+json": {
              "type": "string"
            },
            "text/plain": [
              "'Python eh leg@l! 42 eh @ respost@ p@r@ tudo!!!'"
            ]
          },
          "execution_count": 27,
          "metadata": {},
          "output_type": "execute_result"
        }
      ],
      "source": [
        "frase = input(\"Digite uma frase: \")\n",
        "frase.replace(\"a\", \"@\")"
      ]
    },
    {
      "cell_type": "markdown",
      "metadata": {
        "id": "H3sTTjqI8Naa"
      },
      "source": [
        "#### Questão 10\n",
        "\n",
        "\n",
        "Crie um código que solicite uma frase à pessoa usuária e imprima a mesma frase com todas as consoantes “`s`” trocadas pelo caractere  “`$`”."
      ]
    },
    {
      "cell_type": "code",
      "execution_count": null,
      "metadata": {
        "colab": {
          "base_uri": "https://localhost:8080/",
          "height": 52
        },
        "id": "RPBIsWT68e-1",
        "outputId": "9343fdc3-28a5-4de1-fef0-6dbc30122bd0"
      },
      "outputs": [
        {
          "name": "stdout",
          "output_type": "stream",
          "text": [
            "Digite uma frase: Python eh legal! 42 eh a resposta para tudo!!!\n"
          ]
        },
        {
          "data": {
            "application/vnd.google.colaboratory.intrinsic+json": {
              "type": "string"
            },
            "text/plain": [
              "'Python eh legal! 42 eh a re$po$ta para tudo!!!'"
            ]
          },
          "execution_count": 28,
          "metadata": {},
          "output_type": "execute_result"
        }
      ],
      "source": [
        "frase = input(\"Digite uma frase: \")\n",
        "frase.replace(\"s\", \"$\")"
      ]
    },
    {
      "cell_type": "markdown",
      "metadata": {
        "id": "XGePe4GD2I59"
      },
      "source": [
        "## Aula 3 - Estruturas condicionais"
      ]
    },
    {
      "cell_type": "markdown",
      "metadata": {
        "id": "Pr9HTW0UHCdD"
      },
      "source": [
        "### Aquecendo na programação"
      ]
    },
    {
      "cell_type": "markdown",
      "metadata": {
        "id": "xBZHqhVg80Fy"
      },
      "source": [
        "#### Questão 1\n",
        "Escreva um programa que peça à pessoa usuária para fornecer dois números e exibir o número maior."
      ]
    },
    {
      "cell_type": "code",
      "execution_count": null,
      "metadata": {
        "colab": {
          "base_uri": "https://localhost:8080/"
        },
        "id": "GJlGnzjc-xyF",
        "outputId": "759970dd-2183-43b6-955c-3518c92db9f4"
      },
      "outputs": [
        {
          "name": "stdout",
          "output_type": "stream",
          "text": [
            "Digite n1: 8\n",
            "Digite n2: 8\n",
            "Iguais\n"
          ]
        }
      ],
      "source": [
        "n1 = int(input(\"Digite n1: \"))\n",
        "n2 = int(input(\"Digite n2: \"))\n",
        "\n",
        "if n1 > n2:\n",
        "  print(f\"O maior é: {n1}\")\n",
        "elif n1 < n2:\n",
        "  print(f\"O maior é: {n2}\")\n",
        "else:\n",
        "  print(\"Iguais\")\n",
        "\n"
      ]
    },
    {
      "cell_type": "markdown",
      "metadata": {
        "id": "H4sgN7dyHNJF"
      },
      "source": [
        "#### Questão 2\n",
        "Escreva um programa que solicite o percentual de crescimento de produção de uma empresa e informe se houve um crescimento (porcentagem positiva) ou decrescimento (porcentagem negativa)."
      ]
    },
    {
      "cell_type": "code",
      "execution_count": null,
      "metadata": {
        "colab": {
          "base_uri": "https://localhost:8080/"
        },
        "id": "-2_Ry5XJ-yZW",
        "outputId": "436958e8-9677-4d88-a95b-afae0e8c853b"
      },
      "outputs": [
        {
          "name": "stdout",
          "output_type": "stream",
          "text": [
            "Informe o percentual de crescimento: 0\n",
            "estável\n"
          ]
        }
      ],
      "source": [
        "perc = float(input(\"Informe o percentual de crescimento: \"))\n",
        "if perc > 0:\n",
        "  print(\"crescimento\")\n",
        "elif perc < 0:\n",
        "  print(\"descrescimento\")\n",
        "else:\n",
        "  print(\"estável\")"
      ]
    },
    {
      "cell_type": "markdown",
      "metadata": {
        "id": "a_mzNOBDHNny"
      },
      "source": [
        "#### Questão 3\n",
        "Escreva um programa que determine se uma letra fornecida pela pessoa usuária é uma vogal ou consoante."
      ]
    },
    {
      "cell_type": "code",
      "execution_count": null,
      "metadata": {
        "colab": {
          "base_uri": "https://localhost:8080/"
        },
        "id": "NbgndVyg-zFJ",
        "outputId": "19ca7490-f7da-4fa2-df52-d4d69b847626"
      },
      "outputs": [
        {
          "name": "stdout",
          "output_type": "stream",
          "text": [
            "Digite uma letra: p\n",
            "Eh consoante\n"
          ]
        }
      ],
      "source": [
        "letra = str(input(\"Digite uma letra: \")).lower()\n",
        "vogais = \"aeiou\"\n",
        "if letra in vogais:\n",
        "  print(\"Eh vogal\")\n",
        "else:\n",
        "  print(\"Eh consoante\")"
      ]
    },
    {
      "cell_type": "markdown",
      "metadata": {
        "id": "mofMRjSZHP99"
      },
      "source": [
        "#### Questão 4\n",
        "Escreva um programa que leia valores médios de preços de um modelo de carro por 3 anos consecutivos e exiba o valor mais alto e mais baixo entre esses três anos."
      ]
    },
    {
      "cell_type": "code",
      "execution_count": null,
      "metadata": {
        "colab": {
          "base_uri": "https://localhost:8080/"
        },
        "id": "TX--d3k9-02c",
        "outputId": "89fe87df-8664-4739-f133-99d6d273d2c7"
      },
      "outputs": [
        {
          "name": "stdout",
          "output_type": "stream",
          "text": [
            "Digite o primeiro valor: 19\n",
            "Digite o segundo valor: 21\n",
            "Digite o terceiro valor: 22\n",
            "Maior preço foi 22.0 e o menor foi 19.0\n"
          ]
        }
      ],
      "source": [
        "m1 = float(input(\"Digite o primeiro valor: \"))\n",
        "m2 = float(input(\"Digite o segundo valor: \"))\n",
        "m3 = float(input(\"Digite o terceiro valor: \"))\n",
        "\n",
        "maior = m1\n",
        "if m2 > maior:\n",
        "  maior = m2\n",
        "if m3 > maior:\n",
        "  maior = m3\n",
        "\n",
        "menor = m1\n",
        "if m2 < menor:\n",
        "  menor = m2\n",
        "if m3 < menor:\n",
        "  menor = m3\n",
        "\n",
        "print(f\"Maior preço foi {maior} e o menor foi {menor}\")"
      ]
    },
    {
      "cell_type": "markdown",
      "metadata": {
        "id": "jY5tIwd-HQzc"
      },
      "source": [
        "#### Questão 5\n",
        "Escreva um programa que pergunte sobre o preço de três produtos e indique qual é o produto mais barato para comprar."
      ]
    },
    {
      "cell_type": "code",
      "execution_count": null,
      "metadata": {
        "colab": {
          "base_uri": "https://localhost:8080/"
        },
        "id": "sYqNh9df-0gk",
        "outputId": "c1befa16-aff0-402a-8dd3-2b9ba9062f69"
      },
      "outputs": [
        {
          "name": "stdout",
          "output_type": "stream",
          "text": [
            "Digite o primeiro valor: 12.50\n",
            "Digite o segundo valor: 17.50\n",
            "Digite o terceiro valor: 15\n",
            "Mais barato: 12.50\n"
          ]
        }
      ],
      "source": [
        "m1 = float(input(\"Digite o primeiro valor: \"))\n",
        "m2 = float(input(\"Digite o segundo valor: \"))\n",
        "m3 = float(input(\"Digite o terceiro valor: \"))\n",
        "\n",
        "menor = m1\n",
        "if m2 < menor:\n",
        "  menor = m2\n",
        "if m3 < menor:\n",
        "  menor = m3\n",
        "\n",
        "print(f\"Mais barato: {menor:.2f}\")\n"
      ]
    },
    {
      "cell_type": "markdown",
      "metadata": {
        "id": "1r6aVxtTHR4E"
      },
      "source": [
        "#### Questão 6\n",
        "Escreva um programa que leia três números e os exiba em ordem decrescente."
      ]
    },
    {
      "cell_type": "code",
      "execution_count": null,
      "metadata": {
        "colab": {
          "base_uri": "https://localhost:8080/"
        },
        "id": "ydOCYUMO-0Hk",
        "outputId": "d1d33cc5-7315-41cc-f744-b65cdd3b16af"
      },
      "outputs": [
        {
          "name": "stdout",
          "output_type": "stream",
          "text": [
            "Digite o primeiro valor: 42\n",
            "Digite o segundo valor: 41\n",
            "Digite o terceiro valor: 45\n",
            "45.0\n",
            "42.0\n",
            "41.0\n"
          ]
        }
      ],
      "source": [
        "m1 = float(input(\"Digite o primeiro valor: \"))\n",
        "m2 = float(input(\"Digite o segundo valor: \"))\n",
        "m3 = float(input(\"Digite o terceiro valor: \"))\n",
        "\n",
        "if (m1 >= m2) and (m1 >= m3):\n",
        "    print(m1)\n",
        "    if m2 >= m3:\n",
        "        print(m2)\n",
        "        print(m3)\n",
        "    else:\n",
        "        print(m3)\n",
        "        print(m2)\n",
        "elif (m2 >= m1) and (m2 >= m3):\n",
        "    print(m2)\n",
        "    if m1 >= m3:\n",
        "        print(m1)\n",
        "        print(m3)\n",
        "    else:\n",
        "        print(m3)\n",
        "        print(m1)\n",
        "else:\n",
        "    print(m3)\n",
        "    if m1 >= m2:\n",
        "        print(m1)\n",
        "        print(m2)\n",
        "    else:\n",
        "        print(m2)\n",
        "        print(m1)"
      ]
    },
    {
      "cell_type": "markdown",
      "metadata": {
        "id": "inW3F-hAHS_X"
      },
      "source": [
        "#### Questão 7\n",
        "Escreva um programa que pergunte em qual turno a pessoa usuária estuda (\"manhã\", \"tarde\" ou \"noite\") e exiba a mensagem \"Bom Dia!\", \"Boa Tarde!\", \"Boa Noite!\", ou \"Valor Inválido!\", conforme o caso."
      ]
    },
    {
      "cell_type": "code",
      "execution_count": null,
      "metadata": {
        "colab": {
          "base_uri": "https://localhost:8080/"
        },
        "id": "-_q-Pcr_-zth",
        "outputId": "fd001588-cd3e-4160-e0f5-d896e8c674eb"
      },
      "outputs": [
        {
          "name": "stdout",
          "output_type": "stream",
          "text": [
            "Qual seu turno? tarde\n",
            "Boa tarde\n"
          ]
        }
      ],
      "source": [
        "turno = input(\"Qual seu turno? \").lower()\n",
        "if turno == \"manhã\":\n",
        "  print(\"Bom dia!\")\n",
        "elif turno == \"tarde\": print(\"Boa tarde\")\n",
        "elif turno == \"noite\": print(\"Boa noite\")\n",
        "else: print(\"valor inválido\")"
      ]
    },
    {
      "cell_type": "markdown",
      "metadata": {
        "id": "NCCPF3QqHTw-"
      },
      "source": [
        "#### Questão 8\n",
        "Escreva um programa que peça um número inteiro à pessoa usuária e determine se ele é par ou ímpar. Dica: Você pode utilizar o operador módulo `%`."
      ]
    },
    {
      "cell_type": "code",
      "execution_count": null,
      "metadata": {
        "colab": {
          "base_uri": "https://localhost:8080/"
        },
        "id": "OmZJt1nQ-3e6",
        "outputId": "41ffbdaa-5d68-4854-dd0a-61ddb830512f"
      },
      "outputs": [
        {
          "name": "stdout",
          "output_type": "stream",
          "text": [
            "Digite um número: 0\n",
            "Par\n"
          ]
        }
      ],
      "source": [
        "n = int(input(\"Digite um número: \"))\n",
        "if n % 2 == 0:\n",
        "  print(\"Par\")\n",
        "else:\n",
        "  print(\"Impar\")"
      ]
    },
    {
      "cell_type": "markdown",
      "metadata": {
        "id": "h93Ck1tQHUwE"
      },
      "source": [
        "#### Questão 9\n",
        "Escreva um programa que peça um número à pessoa usuária e informe se ele é inteiro ou decimal."
      ]
    },
    {
      "cell_type": "code",
      "execution_count": null,
      "metadata": {
        "colab": {
          "base_uri": "https://localhost:8080/"
        },
        "id": "sLMlZcx8-20N",
        "outputId": "5afe0985-8d7a-4c9b-f77d-53127e204a0d"
      },
      "outputs": [
        {
          "name": "stdout",
          "output_type": "stream",
          "text": [
            "Digite um número: 19.1\n",
            "decimal\n"
          ]
        }
      ],
      "source": [
        "n = float(input(\"Digite um número: \"))\n",
        "if n % 1 == 0:\n",
        "  print(\"inteiro\")\n",
        "else:\n",
        "  print(\"decimal\")"
      ]
    },
    {
      "cell_type": "markdown",
      "metadata": {
        "id": "bKdXSK1SH_pF"
      },
      "source": [
        "### Momento dos projetos"
      ]
    },
    {
      "cell_type": "markdown",
      "metadata": {
        "id": "WBlEyyzsHV86"
      },
      "source": [
        "#### Questão 10\n",
        "Um programa deve ser escrito para ler dois números e, em seguida, perguntar à pessoa usuária qual operação ele deseja realizar. O resultado da operação deve incluir informações sobre o número - se é par ou ímpar, positivo ou negativo e inteiro ou decimal."
      ]
    },
    {
      "cell_type": "code",
      "execution_count": 6,
      "metadata": {
        "id": "3jmahZ0f-2gq"
      },
      "outputs": [
        {
          "name": "stdout",
          "output_type": "stream",
          "text": [
            "O resultado é impar.\n",
            "O resultado é positivo.\n",
            "O resultado é decimal.\n",
            "0.12121212121212122\n"
          ]
        }
      ],
      "source": [
        "n1 = float(input(\"Digite um nº: \"))\n",
        "n2 = float(input(\"Digite outro nº: \"))\n",
        "operacao = input(\"Informe a operação desejada: (+, -, *, /) \")\n",
        "\n",
        "if operacao == \"+\":\n",
        "    resposta = n1 + n2\n",
        "elif operacao == \"-\":\n",
        "    resposta = n1 - n2\n",
        "elif operacao == \"*\":\n",
        "    resposta = n1 * n2\n",
        "elif operacao == \"/\":\n",
        "    resposta = n1 / n2\n",
        "else:\n",
        "    print(\"Operação invalida!\")\n",
        "    resposta = 0\n",
        "\n",
        "if resposta % 2 == 0:\n",
        "    print(\"O resultado é par.\")\n",
        "else:\n",
        "    print(\"O resultado é impar.\")\n",
        "\n",
        "if resposta > 0:\n",
        "    print(\"O resultado é positivo.\")\n",
        "else:\n",
        "    print(\"O resultado é negativo.\")\n",
        "\n",
        "if resposta % 1 == 0:\n",
        "    print(\"O resultado é inteiro.\")\n",
        "else:\n",
        "    print(\"O resultado é decimal.\")\n",
        "\n",
        "print(resposta)\n"
      ]
    },
    {
      "cell_type": "markdown",
      "metadata": {
        "id": "VdnlULxHHW19"
      },
      "source": [
        "#### Questão 11\n",
        "Escreva um programa que peça à pessoa usuária três números que representam os lados de um triângulo. O programa deve informar se os valores podem ser utilizados para formar um triângulo e, caso afirmativo, se ele é equilátero, isósceles ou escaleno. Tenha em mente algumas dicas:\n",
        "- Três lados formam um triângulo quando a soma de quaisquer dois lados for maior que o terceiro;\n",
        "- Triângulo Equilátero: três lados iguais;\n",
        "- Triângulo Isósceles: quaisquer dois lados iguais;\n",
        "- Triângulo Escaleno: três lados diferentes;\n"
      ]
    },
    {
      "cell_type": "code",
      "execution_count": null,
      "metadata": {
        "id": "0z73sqUO-2Pw"
      },
      "outputs": [],
      "source": []
    },
    {
      "cell_type": "markdown",
      "metadata": {
        "id": "_PpEpOugHXwZ"
      },
      "source": [
        "#### Questão 12\n",
        "Um estabelecimento está vendendo combustíveis com descontos variados. Para o etanol, se a quantidade comprada for até 15 litros, o desconto será de 2% por litro. Caso contrário, será de 4% por litro. Para o diesel, se a quantidade comprada for até 15 litros, o desconto será de 3% por litro. Caso contrário, será de 5% por litro. O preço do litro de diesel é R\\$ 2,00 e o preço do litro de etanol é R\\$ 1,70. Escreva um programa que leia a quantidade de litros vendidos e o tipo de combustível (E para etanol e D para diesel) e calcule o valor a ser pago pelo cliente. Tenha em mente algumas dicas:\n",
        "\n",
        "- O do valor do desconto será a multiplicação entre preço do litro, quantidade de litros e o valor do desconto.\n",
        "- O valor a ser pago por um cliente será o resultado da multiplicação do preço do litro pela quantidade de litros menos o valor de desconto resultante do cálculo.\n"
      ]
    },
    {
      "cell_type": "code",
      "execution_count": null,
      "metadata": {
        "id": "9izoF-0O-1yD"
      },
      "outputs": [],
      "source": []
    },
    {
      "cell_type": "markdown",
      "metadata": {
        "id": "s_XS_D1WHY2R"
      },
      "source": [
        "#### Questão 13\n",
        "Em uma empresa de venda de imóveis você precisa criar um código que analise os dados de vendas anuais para ajudar a diretoria na tomada de decisão. O código precisa coletar os dados de quantidade de venda durante os anos de 2022 e 2023 e fazer um cálculo de variação percentual. A partir do valor da variação, deve ser enviada às seguintes sugestões:\n",
        "- Para variação acima de 20%: bonificação para o time de vendas.\n",
        "- Para variação entre 2% e 20%: pequena bonificação para time de vendas.\n",
        "- Para variação entre 2% e -10%: planejamento de políticas de incentivo às vendas.\n",
        "- Para bonificações abaixo de -10%: corte de gastos.\n"
      ]
    },
    {
      "cell_type": "code",
      "execution_count": null,
      "metadata": {
        "id": "avQrYlUg-w8f"
      },
      "outputs": [],
      "source": []
    },
    {
      "cell_type": "markdown",
      "metadata": {
        "id": "AuaWh4-d2Itt"
      },
      "source": [
        "## Aula 4 - Estruturas de repetição"
      ]
    },
    {
      "cell_type": "markdown",
      "metadata": {
        "id": "6MSqU0sIJRdD"
      },
      "source": [
        "### Aquecendo na programação"
      ]
    },
    {
      "cell_type": "markdown",
      "metadata": {
        "id": "9eGGyCnAJRdQ"
      },
      "source": [
        "#### Questão 1\n",
        "Escreva um programa que peça dois números inteiros e imprima todos os números inteiros entre eles."
      ]
    },
    {
      "cell_type": "code",
      "execution_count": null,
      "metadata": {
        "id": "ID1oc1hxJRdQ"
      },
      "outputs": [],
      "source": []
    },
    {
      "cell_type": "markdown",
      "metadata": {
        "id": "mGonEHYCJRdR"
      },
      "source": [
        "#### Questão 2\n",
        "Escreva um programa para calcular quantos dias levará para a colônia de uma bactéria A ultrapassar ou igualar a colônia de uma bactéria B, com base nas taxas de crescimento de 3% e 1,5% respectivamente. Considere que a colônia A inicia com 4 elementos e a colônia B com 10 elementos."
      ]
    },
    {
      "cell_type": "code",
      "execution_count": null,
      "metadata": {
        "id": "wM6FJuoqJRdR"
      },
      "outputs": [],
      "source": []
    },
    {
      "cell_type": "markdown",
      "metadata": {
        "id": "UiOZRlqoJRdR"
      },
      "source": [
        "#### Questão 3\n",
        "Para tratar uma quantidade de 15 dados de avaliações de pessoas usuárias de um serviço da empresa, precisamos verificar se as notas são válidas. Então, escreva um programa que vai receber a nota de 0 a 5 de todos os dados e verificar se é um valor válido. Caso seja inserido uma nota acima de 5 ou abaixo de 0, repita até que a pessoa usuária insira um valor válido."
      ]
    },
    {
      "cell_type": "code",
      "execution_count": null,
      "metadata": {
        "id": "3TUAhCxcJRdR"
      },
      "outputs": [],
      "source": []
    },
    {
      "cell_type": "markdown",
      "metadata": {
        "id": "ABv3KObGJRdR"
      },
      "source": [
        "#### Questão 4\n",
        "Desenvolva um programa que leia um conjunto indeterminado de temperaturas em Celsius e faça uma análise. Portanto, escreva um programa que leia temperaturas e informe a média delas. A leitura deve ser encerrada ao ser enviado o valor -273°C."
      ]
    },
    {
      "cell_type": "code",
      "execution_count": null,
      "metadata": {
        "id": "85tBBj5KJRdS"
      },
      "outputs": [],
      "source": []
    },
    {
      "cell_type": "markdown",
      "metadata": {
        "id": "IjkbAfGcJRdS"
      },
      "source": [
        "#### Questão 5\n",
        "Escreva um programa que calcule o fatorial de um número inteiro fornecido pela pessoa usuária. O fatorial de um número inteiro é a multiplicação desse número por todos os seus antecessores até o número 1. Por exemplo, o fatorial de 5 é 5 x 4 x 3 x 2 x 1 = 120."
      ]
    },
    {
      "cell_type": "code",
      "execution_count": null,
      "metadata": {
        "id": "7RTH8o0HJRdS"
      },
      "outputs": [],
      "source": []
    },
    {
      "cell_type": "markdown",
      "metadata": {
        "id": "oGNKuQjsJRdT"
      },
      "source": [
        "### Momento dos projetos"
      ]
    },
    {
      "cell_type": "markdown",
      "metadata": {
        "id": "ODxaTUYmJRdS"
      },
      "source": [
        "#### Questão 6\n",
        "Escreva um programa que gere a tabuada de um número inteiro de 1 a 10, de acordo com a escolha da pessoa usuária. Como exemplo, para o número 2, a tabuada deve ser mostrada no seguinte formato:\n",
        "```\n",
        "Tabuada do 2:\n",
        "2 x 1 = 2\n",
        "2 x 2 = 4\n",
        "[...]\n",
        "2 x 10 = 20\n",
        "```"
      ]
    },
    {
      "cell_type": "code",
      "execution_count": null,
      "metadata": {
        "id": "lkTlbxPIJRdS"
      },
      "outputs": [],
      "source": []
    },
    {
      "cell_type": "markdown",
      "metadata": {
        "id": "LeIbnt8VJRdS"
      },
      "source": [
        "#### Questão 7\n",
        "Os números primos possuem várias aplicações dentro da Ciência de Dados, por exemplo, na criptografia e segurança. Um número primo é aquele que é divisível apenas por um e por ele mesmo. Faça um programa que peça um número inteiro e determine se ele é ou não um número primo."
      ]
    },
    {
      "cell_type": "code",
      "execution_count": null,
      "metadata": {
        "id": "2rcNU7twJRdS"
      },
      "outputs": [],
      "source": []
    },
    {
      "cell_type": "markdown",
      "metadata": {
        "id": "QTwb6QaCJRdT"
      },
      "source": [
        "#### Questão 8\n",
        "Vamos entender a distribuição de idades de pensionistas de uma empresa de previdência. Escreva um programa que leia as idades de uma quantidade não informada de clientes e mostre a distribuição em intervalos de [0-25], [26-50], [51-75] e [76-100]. Encerre a entrada de dados com um número negativo."
      ]
    },
    {
      "cell_type": "code",
      "execution_count": null,
      "metadata": {
        "id": "4IAhaDmYJRdT"
      },
      "outputs": [],
      "source": []
    },
    {
      "cell_type": "markdown",
      "metadata": {
        "id": "soJCQVwRJRdT"
      },
      "source": [
        "#### Questão 9\n",
        "Em uma eleição para gerência em uma empresa com 20 funcionários, existem quatro candidatos. Escreva um programa que calcule o vencedor da eleição. A votação ocorreu da seguinte maneira:\n",
        "- Cada funcionário votou em um dos quatro candidatos (representados pelos números 1, 2, 3 e 4).\n",
        "- Também foram contabilizados os votos nulos (representado pelo número 5) e os votos em branco (representado pelo número 6).\n",
        "\n",
        "Ao final da votação, o programa deve exibir o total de votos para cada candidato, o número de votos nulos e o número de votos em branco. Além disso, deve calcular e exibir a porcentagem de votos nulos em relação ao total de votos e a porcentagem de votos em branco em relação ao total de votos."
      ]
    },
    {
      "cell_type": "code",
      "execution_count": null,
      "metadata": {
        "id": "041EFrgG-4gR"
      },
      "outputs": [],
      "source": []
    },
    {
      "cell_type": "markdown",
      "metadata": {
        "id": "eijHQiNU2IZ7"
      },
      "source": [
        "## Aula 5 - Estruturas de dados"
      ]
    },
    {
      "cell_type": "markdown",
      "metadata": {
        "id": "92F0bKtBMgd7"
      },
      "source": [
        "### Aquecendo na programação"
      ]
    },
    {
      "cell_type": "markdown",
      "metadata": {
        "id": "IypX2ANuMgeC"
      },
      "source": [
        "#### Questão 1\n",
        "Faça um programa que tenha a seguinte lista contendo os valores de gastos de uma empresa de papel `[2172.54, 3701.35, 3518.09, 3456.61, 3249.38, 2840.82, 3891.45, 3075.26, 2317.64, 3219.08]`. Com esses valores, faça um programa que calcule a média de gastos. Dica, use as funções built-in [`sum()`](https://docs.python.org/3/library/functions.html#sum) e [`len()`](https://docs.python.org/3/library/functions.html#len)."
      ]
    },
    {
      "cell_type": "code",
      "execution_count": null,
      "metadata": {
        "id": "ge3LuFhLMgeD"
      },
      "outputs": [],
      "source": []
    },
    {
      "cell_type": "markdown",
      "metadata": {
        "id": "xrOeLhQkMgeD"
      },
      "source": [
        "#### Questão 2\n",
        " Com os mesmos dados da questão anterior, defina quantas compras foram acima de 3000 reais e calcule a porcentagem quanto ao total de compras."
      ]
    },
    {
      "cell_type": "code",
      "execution_count": null,
      "metadata": {
        "id": "Ygu5TMZyMgeD"
      },
      "outputs": [],
      "source": []
    },
    {
      "cell_type": "markdown",
      "metadata": {
        "id": "JgCOrE_BMgeD"
      },
      "source": [
        "#### Questão 3\n",
        "Faça um código que colete em uma lista 5 números inteiros quaisquer e imprima a lista. Exemplo: `[1,4,7,2,4]`."
      ]
    },
    {
      "cell_type": "code",
      "execution_count": null,
      "metadata": {
        "id": "vtM9O1hLMgeD"
      },
      "outputs": [],
      "source": []
    },
    {
      "cell_type": "markdown",
      "metadata": {
        "id": "p3bTp88HMgeD"
      },
      "source": [
        "#### Questão 4\n",
        "Colete novamente 5 inteiros e imprima a lista em ordem inversa à enviada."
      ]
    },
    {
      "cell_type": "code",
      "execution_count": null,
      "metadata": {
        "id": "-CGwMIyHMgeD"
      },
      "outputs": [],
      "source": []
    },
    {
      "cell_type": "markdown",
      "metadata": {
        "id": "eIXd_z1lMgeD"
      },
      "source": [
        "#### Questão 5\n",
        "Faça um programa que, ao inserir um número qualquer, criará uma lista contendo todos os números primos entre 1 e o número digitado."
      ]
    },
    {
      "cell_type": "code",
      "execution_count": null,
      "metadata": {
        "id": "rj_6GHstMgeE"
      },
      "outputs": [],
      "source": []
    },
    {
      "cell_type": "markdown",
      "metadata": {
        "id": "zrbz3ENlMgeE"
      },
      "source": [
        "#### Questão 6\n",
        "Escreva um programa que peça uma data informando o dia, mês e ano e determine se ela é uma data válida para uma análise."
      ]
    },
    {
      "cell_type": "code",
      "execution_count": null,
      "metadata": {
        "id": "0eYA8UjTMgeE"
      },
      "outputs": [],
      "source": []
    },
    {
      "cell_type": "markdown",
      "metadata": {
        "id": "ut_4VHdGMgeE"
      },
      "source": [
        "### Momento dos projetos"
      ]
    },
    {
      "cell_type": "markdown",
      "metadata": {
        "id": "G86Z0vD_MgeE"
      },
      "source": [
        "#### Questão 7\n",
        "Para um estudo envolvendo o nível de multiplicação de bactérias em uma colônia, foi coletado o número de bactérias multiplicadas por dia, com base em um processo de duplicação diária e pode ser observado a seguir: `[1.2, 2.1, 3.3, 5.0, 7.8, 11.3, 16.6, 25.1, 37.8, 56.9]`. Tendo esses valores, faça um código que gere uma lista contendo o percentual de crescimento de bactérias por dia, comparando o número de bactérias em cada dia com o número de bactérias do dia anterior. Dica: para calcular o percentual de crescimento usamos a seguinte equação: `100 * (amostra_atual - amostra_passada) / (amostra_passada)`."
      ]
    },
    {
      "cell_type": "code",
      "execution_count": null,
      "metadata": {
        "id": "PXNO_CFkMgeE"
      },
      "outputs": [],
      "source": []
    },
    {
      "cell_type": "markdown",
      "metadata": {
        "id": "p4nxogpnMgeE"
      },
      "source": [
        "#### Questão 8\n",
        "Para uma seleção de produtos alimentícios, precisamos separar o conjunto de IDs dados por números inteiros, sabendo que os produtos com ID par são doces e os com ID ímpar são amargos. Monte um código que colete 10 IDs. Depois, calcule e mostre a quantidade de produtos doces e amargos."
      ]
    },
    {
      "cell_type": "code",
      "execution_count": null,
      "metadata": {
        "id": "WqjO2SZkMgeE"
      },
      "outputs": [],
      "source": []
    },
    {
      "cell_type": "markdown",
      "metadata": {
        "id": "t5OrLxV6MgeE"
      },
      "source": [
        "#### Questão 9\n",
        "Desenvolva um programa que informa a nota de um aluno de acordo com suas respostas. Ele deve pedir a resposta de um aluno para cada questão e é preciso verificar se a resposta foi igual ao gabarito. Cada questão vale um ponto e existem alternativas:  A, B, C ou D.\n",
        "```\n",
        "Gabarito da Prova:\n",
        "01 - D\n",
        "02 - A\n",
        "03 - C\n",
        "04 - B\n",
        "05 - A\n",
        "06 - D\n",
        "07 - C\n",
        "08 - C\n",
        "09 - A\n",
        "10 - B\n",
        "```"
      ]
    },
    {
      "cell_type": "code",
      "execution_count": null,
      "metadata": {
        "id": "ytIQDJrQMgeE"
      },
      "outputs": [],
      "source": []
    },
    {
      "cell_type": "markdown",
      "metadata": {
        "id": "aSBMzh-AMgeF"
      },
      "source": [
        "#### Questão 10\n",
        "Um instituto de meteorologia deseja fazer um estudo de temperatura média de cada mês do ano. Para isso, você precisa fazer um código que colete e armazene essas temperaturas médias em uma lista. Depois, calcule a média anual das temperaturas e mostre todas as temperaturas acima da média anual, e em que mês elas ocorreram, mostrando os meses por extenso: Janeiro, Fevereiro, etc."
      ]
    },
    {
      "cell_type": "code",
      "execution_count": null,
      "metadata": {
        "id": "ftj04s2uMgeF"
      },
      "outputs": [],
      "source": []
    },
    {
      "cell_type": "markdown",
      "metadata": {
        "id": "0X8S6s4jMgeF"
      },
      "source": [
        "#### Questão 11\n",
        "Uma empresa de e-commerce está interessada em analisar as vendas dos seus produtos. Os dados das vendas foram armazenados em um dicionário:\n",
        "```\n",
        "{'Produto A': 300, 'Produto B': 80, 'Produto C': 60,\n",
        " 'Produto D': 200, 'Produto E': 250, 'Produto F': 30}\n",
        "```\n",
        "Escreva um código que calcule o total de vendas e o produto mais vendido."
      ]
    },
    {
      "cell_type": "code",
      "execution_count": null,
      "metadata": {
        "id": "Xa3DJLtFMgeF"
      },
      "outputs": [],
      "source": []
    },
    {
      "cell_type": "markdown",
      "metadata": {
        "id": "nrEwf_1ZMgeF"
      },
      "source": [
        "#### Questão 12\n",
        "Uma pesquisa de mercado foi feita para decidir qual design de uma marca infantil mais agrada crianças. A pesquisa foi feita e o votos computados podem ser observados abaixo:\n",
        "```\n",
        "'''\n",
        "Tabela de votos da marca\n",
        "Design 1 - 1334 votos\n",
        "Design 2 - 982 votos\n",
        "Design 3 - 1751 votos\n",
        "Design 4 - 210 votos\n",
        "Design 5 - 1811 votos\n",
        "'''\n",
        "```\n",
        "Adapte os dados fornecidos a você para uma estrutura de dicionário e a partir dele, informe o design vencedor e a porcentagem de votos recebidos.\n"
      ]
    },
    {
      "cell_type": "code",
      "execution_count": null,
      "metadata": {
        "id": "MRPcGR-_MgeF"
      },
      "outputs": [],
      "source": []
    },
    {
      "cell_type": "markdown",
      "metadata": {
        "id": "HRTFFzKIMgeF"
      },
      "source": [
        "#### Questão 13\n",
        "Os funcionários de um setor da empresa que você trabalha vão receber um abono correspondente a 10% do seu salário devido ao ótimo desempenho do time. O setor financeiro solicitou sua ajuda para a verificação das consequências financeiras que esse abono irá gerar nos recursos. Assim, foi encaminhada para você uma lista com os salários que receberão o abono: `[1172, 1644, 2617, 5130, 5532, 6341, 6650, 7238, 7685, 7782, 7903]`. O abono de cada funcionário não pode ser inferior a 200. Em código, transforme cada um dos salários em chaves de um dicionário e o abono de cada salário no elemento. Depois, informe o total de gastos com o abono, quantos funcionários receberam o abono mínimo e qual o maior valor de abono fornecido.\n"
      ]
    },
    {
      "cell_type": "code",
      "execution_count": null,
      "metadata": {
        "id": "QsDSCua42bLB"
      },
      "outputs": [],
      "source": []
    },
    {
      "cell_type": "markdown",
      "metadata": {
        "id": "6dEXZEwjMlWy"
      },
      "source": [
        "#### Questão 14\n",
        "Uma equipe de cientistas de dados está estudando a diversidade biológica em uma floresta. A equipe fez a coleta de informações sobre o número de espécies de plantas e animais em cada área da floresta e armazenaram essas informações em um dicionário. Nele, a chave descreve a área dos dados e os valores nas listas correspondem às espécies de plantas e animais nas áreas, respectivamente.\n",
        "```\n",
        "{'Área Norte': [2819, 7236],\n",
        " 'Área Leste': [1440, 9492],\n",
        " 'Área Sul': [5969, 7496],\n",
        " 'Área Oeste': [14446, 49688],\n",
        " 'Área Centro': [22558, 45148]}\n",
        "```\n",
        "Escreva um código para calcular a média de espécies por área e identificar a área com a maior diversidade biológica. Dica: use as funções built-in [`sum()`](https://docs.python.org/3/library/functions.html#sum) e [`len()`](https://docs.python.org/3/library/functions.html#len).\n"
      ]
    },
    {
      "cell_type": "code",
      "execution_count": null,
      "metadata": {
        "id": "eQnOUDfYMlWy"
      },
      "outputs": [],
      "source": []
    },
    {
      "cell_type": "markdown",
      "metadata": {
        "id": "r0RW2Sy_MlWy"
      },
      "source": [
        "#### Questão 15\n",
        "O setor de RH da sua empresa te pediu uma ajuda para analisar as idades dos funcionários de 4 setores da empresa. Para isso, ele te forneceu os seguintes dados:\n",
        "```\n",
        "{'Setor A': [22, 26, 30, 30, 35, 38, 40, 56, 57, 65],\n",
        " 'Setor B': [22, 24, 26, 33, 41, 49, 50, 54, 60, 64],\n",
        " 'Setor C': [23, 26, 26, 29, 34, 35, 36, 41, 52, 56],\n",
        " 'Setor D': [19, 20, 25, 27, 34, 39, 42, 44, 50, 65]}\n",
        "``` \n",
        "Sabendo que cada setor tem 10 funcionários, construa um código que calcule a média de idade de cada setor, a idade média geral entre todos os setores e quantas pessoas estão acima da idade média geral.\n"
      ]
    },
    {
      "cell_type": "code",
      "execution_count": null,
      "metadata": {
        "id": "wCiwyKP3MmTz"
      },
      "outputs": [],
      "source": []
    }
  ],
  "metadata": {
    "colab": {
      "collapsed_sections": [
        "Mc-KN0dA0Z83",
        "D9e3FqhO1S3X"
      ],
      "provenance": []
    },
    "kernelspec": {
      "display_name": "Python 3",
      "name": "python3"
    },
    "language_info": {
      "codemirror_mode": {
        "name": "ipython",
        "version": 3
      },
      "file_extension": ".py",
      "mimetype": "text/x-python",
      "name": "python",
      "nbconvert_exporter": "python",
      "pygments_lexer": "ipython3",
      "version": "3.9.16"
    }
  },
  "nbformat": 4,
  "nbformat_minor": 0
}
